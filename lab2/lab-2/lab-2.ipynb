{
 "cells": [
  {
   "cell_type": "markdown",
   "metadata": {},
   "source": [
    "# Learning and Decision Making"
   ]
  },
  {
   "cell_type": "markdown",
   "metadata": {},
   "source": [
    "## Laboratory 2: Markov chains\n",
    "\n",
    "In the end of the lab, you should submit all code/answers written in the tasks marked as \"Activity n. XXX\", together with the corresponding outputs and any replies to specific questions posed to the e-mail <adi.tecnico@gmail.com>. Make sure that the subject is of the form [&lt;group n.&gt;] LAB &lt;lab n.&gt;.\n",
    "\n",
    "### 1. Modeling\n",
    "\n",
    "Consider once again the simplified Trivial game described in the Homework and for which you wrote a Markov chain model:\n",
    "\n",
    "<img src=\"trivial.png\" width=\"400px\">\n",
    "\n",
    "Recall that your chain should describe a single player, where: \n",
    "\n",
    "* The player rolls a single die in each play; \n",
    "* At each intersection, the player continues along any of the possible intersecting paths with equal probability. "
   ]
  },
  {
   "cell_type": "markdown",
   "metadata": {},
   "source": [
    "---\n",
    "\n",
    "#### Activity 1.        \n",
    "\n",
    "Implement your Markov chain model in Python. In particular,\n",
    "\n",
    "* Create a list with all the states;\n",
    "* Define a `numpy` array with the corresponding transition probabilities.\n",
    "\n",
    "The order for the states used in the transition probability matrix should match that in the list of states. \n",
    "\n",
    "**Note 1**: Don't forget to import `numpy`. If you need additional matrix operations (such as matrix powers or eigenvalues and eigenvectors), you may also import the library `numpy.linalg`.\n",
    "\n",
    "**Note 2**: Make sure to print the result in the end.\n",
    "\n",
    "---"
   ]
  },
  {
   "cell_type": "code",
   "execution_count": 27,
   "metadata": {
    "scrolled": false
   },
   "outputs": [
    {
     "name": "stdout",
     "output_type": "stream",
     "text": [
      "states: [0, 1, 2, 3, 4, 5, 6, 7, 8, 9]\n",
      "\n",
      "Transition probability matrix:\n",
      " [[0.12345679 0.18518519 0.08333333 0.06481481 0.08333333 0.18518519\n",
      "  0.08333333 0.08333333 0.04320988 0.06481481]\n",
      " [0.12345679 0.18518519 0.12345679 0.10493827 0.04320988 0.10493827\n",
      "  0.04320988 0.12345679 0.04320988 0.10493827]\n",
      " [0.08333333 0.18518519 0.12345679 0.18518519 0.08333333 0.06481481\n",
      "  0.04320988 0.08333333 0.08333333 0.06481481]\n",
      " [0.04320988 0.10493827 0.12345679 0.18518519 0.12345679 0.10493827\n",
      "  0.04320988 0.04320988 0.12345679 0.10493827]\n",
      " [0.08333333 0.06481481 0.08333333 0.18518519 0.12345679 0.18518519\n",
      "  0.08333333 0.04320988 0.08333333 0.06481481]\n",
      " [0.12345679 0.10493827 0.04320988 0.10493827 0.12345679 0.18518519\n",
      "  0.12345679 0.04320988 0.04320988 0.10493827]\n",
      " [0.08333333 0.06481481 0.04320988 0.06481481 0.08333333 0.18518519\n",
      "  0.12345679 0.08333333 0.08333333 0.18518519]\n",
      " [0.08333333 0.18518519 0.08333333 0.06481481 0.04320988 0.06481481\n",
      "  0.08333333 0.12345679 0.08333333 0.18518519]\n",
      " [0.04320988 0.06481481 0.08333333 0.18518519 0.08333333 0.06481481\n",
      "  0.08333333 0.08333333 0.12345679 0.18518519]\n",
      " [0.04320988 0.10493827 0.04320988 0.10493827 0.04320988 0.10493827\n",
      "  0.12345679 0.12345679 0.12345679 0.18518519]]\n"
     ]
    }
   ],
   "source": [
    "import numpy as np\n",
    "\n",
    "states = [0,1,2,3,4,5,6,7,8,9]\n",
    "print('states:', states)\n",
    "\n",
    "P1 = np.array([[0,1/2,0,0,0,1/2,0,0,0,0],\n",
    "               [1/3,0,1/3,0,0,0,0,1/3,0,0],\n",
    "               [0,1/2,0,1/2,0,0,0,0,0,0],\n",
    "               [0,0,1/3,0,1/3,0,0,0,1/3,0],\n",
    "               [0,0,0,1/2,0,1/2,0,0,0,0],\n",
    "               [1/3,0,0,0,1/3,0,1/3,0,0,0],\n",
    "               [0,0,0,0,0,1/2,0,0,0,1/2],\n",
    "               [0,1/2,0,0,0,0,0,0,0,1/2],\n",
    "               [0,0,0,1/2,0,0,0,0,0,1/2],\n",
    "               [0,0,0,0,0,0,1/3,1/3,1/3,0]]) \n",
    "\n",
    "P2 = np.linalg.matrix_power(P1,2)\n",
    "P3 = np.linalg.matrix_power(P1,3)\n",
    "P4 = np.linalg.matrix_power(P1,4)\n",
    "P5 = np.linalg.matrix_power(P1,5)\n",
    "P6 = np.linalg.matrix_power(P1,6)\n",
    "M = P1*(1/6)+P2*(1/6)+P3*(1/6)+P4*(1/6)+P5*(1/6)+P6*(1/6)\n",
    "\n",
    "print('\\nTransition probability matrix:\\n', M)"
   ]
  },
  {
   "cell_type": "markdown",
   "metadata": {},
   "source": [
    "---\n",
    "\n",
    "#### Activity 2.\n",
    "\n",
    "Compute the probability of the following trajectories:\n",
    "\n",
    "* \"Pink with pie piece\" - \"Green in outer rim\" - \"Blue with pie slice\" - \"Pink in outer rim\"\n",
    "* \"Pink with pie piece\" - \"Pink with pie piece\" - \"Blue in outer rim\"\n",
    "* \"Center\" - \"Pink with pie piece\" - \"Blue in outer rim\"\n",
    "\n",
    "**Note:** Make sure to print the result in the end.\n",
    "\n",
    "---"
   ]
  },
  {
   "cell_type": "code",
   "execution_count": 2,
   "metadata": {},
   "outputs": [
    {
     "name": "stdout",
     "output_type": "stream",
     "text": [
      "Pink with pie piece - Green in outer rim - Blue with pie slice - Pink in outer rim, probability:  0.0028225146347383807\n",
      "Pink with pie piece - Pink with pie piece - Blue in outer rim, probability:  0.022862368541380886\n",
      "Center - Pink with pie piece - Blue in outer rim, probability:  0.012955342173449168\n"
     ]
    }
   ],
   "source": [
    "green_out = states[0]\n",
    "blue_pie = states[1]\n",
    "pink_out = states[2]\n",
    "blue_out = states[4]\n",
    "pink_pie = states[5]\n",
    "center = states[9]\n",
    "\n",
    "pink_pie_to_green_out = M[pink_pie][green_out]\n",
    "green_out_to_blue_pie = M[green_out][blue_pie]\n",
    "blue_pie_to_pink_out = M[blue_pie][pink_out]\n",
    "pink_pie_to_pink_pie = M[pink_pie][pink_pie]\n",
    "pink_pie_to_blue_out = M[pink_pie][blue_out]\n",
    "center_to_pink_pie = M[center][pink_pie]\n",
    "\n",
    "\n",
    "first_prob = pink_pie_to_green_out * green_out_to_blue_pie * blue_pie_to_pink_out\n",
    "second_prob = pink_pie_to_pink_pie * pink_pie_to_blue_out\n",
    "third_prob = center_to_pink_pie * pink_pie_to_blue_out\n",
    "\n",
    "print(\"Pink with pie piece - Green in outer rim - Blue with pie slice - Pink in outer rim, probability: \", first_prob)\n",
    "print(\"Pink with pie piece - Pink with pie piece - Blue in outer rim, probability: \", second_prob)\n",
    "print(\"Center - Pink with pie piece - Blue in outer rim, probability: \", third_prob)\n"
   ]
  },
  {
   "cell_type": "markdown",
   "metadata": {},
   "source": [
    "### 2. Stability"
   ]
  },
  {
   "cell_type": "markdown",
   "metadata": {},
   "source": [
    "---\n",
    "\n",
    "#### Activity 3.\n",
    "\n",
    "Justify whether the chain implemented in Activity #1 is:\n",
    "\n",
    "* Irreducible\n",
    "* Aperiodic\n",
    "* Ergodic\n",
    "\n",
    "---"
   ]
  },
  {
   "cell_type": "markdown",
   "metadata": {},
   "source": [
    "The chain is irreducible because it is possible to get to any state from any state. This can be seen in the matrix corresponding to the transiction probabilities (M) because all of the probabilities (all the matrix values) are different than 0, which means that it is possible to reach any state in 1 step.\n",
    "\n",
    "The chain is aperiodic (periodicity=1). For example, the pink with pie piece state is aperiodic because any return to that state must occur in multiples of 1 time steps, meaning that it could happen in any step. And because as said above, the chain is irreducible, if it has even just one aperiodic state then, by definition, the whole chain is also aperiodic.\n",
    "\n",
    "Because the chain is irreducible and aperiodic then it is also ergodic."
   ]
  },
  {
   "cell_type": "markdown",
   "metadata": {},
   "source": [
    "---\n",
    "\n",
    "#### Activity 4\n",
    "\n",
    "Compute the stationary distribution for the chain.\n",
    "\n",
    "**Note:** The stationary distribution is a *left* eigenvector of the transition probability matrix associated to the eigenvalue 1. As such, you may find useful the numpy function `numpy.linalg.eig`. Also, recall that the stationary distribution is *a distribution*.\n",
    "\n",
    "---"
   ]
  },
  {
   "cell_type": "code",
   "execution_count": 103,
   "metadata": {},
   "outputs": [
    {
     "name": "stdout",
     "output_type": "stream",
     "text": [
      "[0.08333333 0.125      0.08333333 0.125      0.08333333 0.125\n",
      " 0.08333333 0.08333333 0.08333333 0.125     ]\n"
     ]
    }
   ],
   "source": [
    "w, v = np.linalg.eig(M.T)\n",
    "\n",
    "index=np.argmax(w)\n",
    "array = v[:,index]\n",
    "\n",
    "normalized = array/np.sum(array)\n",
    "print(normalized.real)"
   ]
  },
  {
   "cell_type": "markdown",
   "metadata": {},
   "source": [
    "### 3. Simulation\n",
    "\n",
    "You are now going to *simulate* the Markov chain that you defined in Question #1."
   ]
  },
  {
   "cell_type": "markdown",
   "metadata": {},
   "source": [
    "---\n",
    "\n",
    "#### Activity 5\n",
    "\n",
    "Generate a 10,000-step long trajectory of the chain defined in Activity #1. \n",
    "\n",
    "---"
   ]
  },
  {
   "cell_type": "code",
   "execution_count": 92,
   "metadata": {},
   "outputs": [
    {
     "name": "stdout",
     "output_type": "stream",
     "text": [
      "[3. 8. 1. ... 3. 2. 9.]\n"
     ]
    }
   ],
   "source": [
    "steps = np.empty(10000)\n",
    "\n",
    "pos = np.random.randint(np.min(states), np.max(states), size=1)[0]\n",
    "\n",
    "for i in range(9999):\n",
    "    pos = np.random.choice(np.arange(0, 10), p=M[pos])\n",
    "    steps[i] = pos    \n",
    "\n",
    "\n",
    "print(steps)"
   ]
  },
  {
   "cell_type": "markdown",
   "metadata": {},
   "source": [
    "---\n",
    "\n",
    "#### Activity 6\n",
    "\n",
    "Draw a histogram of the trajectory generated in Activity #5. Make sure that the histogram has one bin for each state. Compare the relative frequencies with the result of Activity #4.\n",
    "\n",
    "**Note**: Don't forget to load `matplotlib`.\n",
    "\n",
    "---"
   ]
  },
  {
   "cell_type": "code",
   "execution_count": 93,
   "metadata": {},
   "outputs": [
    {
     "data": {
      "image/png": "[encoded data removed]",
      "text/plain": [
       "<matplotlib.figure.Figure at 0x1cec2ad7588>"
      ]
     },
     "metadata": {},
     "output_type": "display_data"
    }
   ],
   "source": [
    "import matplotlib as mp\n",
    "import matplotlib.pyplot as plt\n",
    "\n",
    "n, bins, patches = plt.hist(steps,bins=range(11),width=0.5,color='#DAF7A6')\n",
    "\n",
    "plt.xlabel('State')\n",
    "plt.ylabel('Probability')\n",
    "plt.title('Number of times per state of a 10.000-step long trajectory ')\n",
    "x=[0,1,2,3,4,5,6,7,8,9]\n",
    "plt.xticks(x)\n",
    "plt.show()"
   ]
  },
  {
   "cell_type": "markdown",
   "metadata": {},
   "source": [
    "With a very large number of steps, with time, it tends to the stationary distribution.\n",
    "\n",
    "By looking at the histogram we can tell that the states the player visits the most are the ones that have higher stationary distribution (states 1,3,5,9)."
   ]
  }
 ],
 "metadata": {
  "kernelspec": {
   "display_name": "Python 3",
   "language": "python",
   "name": "python3"
  },
  "language_info": {
   "codemirror_mode": {
    "name": "ipython",
    "version": 3
   },
   "file_extension": ".py",
   "mimetype": "text/x-python",
   "name": "python",
   "nbconvert_exporter": "python",
   "pygments_lexer": "ipython3",
   "version": "3.6.4"
  }
 },
 "nbformat": 4,
 "nbformat_minor": 1
}
